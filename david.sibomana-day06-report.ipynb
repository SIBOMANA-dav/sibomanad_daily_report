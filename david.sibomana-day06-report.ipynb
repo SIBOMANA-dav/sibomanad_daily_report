{
 "cells": [
  {
   "cell_type": "markdown",
   "id": "inside-block",
   "metadata": {},
   "source": [
    "Summations and products"
   ]
  },
  {
   "cell_type": "code",
   "execution_count": 12,
   "id": "quantitative-crack",
   "metadata": {},
   "outputs": [
    {
     "name": "stdout",
     "output_type": "stream",
     "text": [
      "Enter a natural number n: 60\n",
      "sum of odd numbers is: 990\n"
     ]
    }
   ],
   "source": [
    "def sum_odd(n):\n",
    "    return sum(i + 3 for i in range(n) if i % 2 != 0)\n",
    "n = int(input(\"Enter a natural number n: \"))\n",
    "print(\"sum of odd numbers is:\",sum_odd(n))"
   ]
  },
  {
   "cell_type": "code",
   "execution_count": 19,
   "id": "figured-economics",
   "metadata": {},
   "outputs": [
    {
     "name": "stdout",
     "output_type": "stream",
     "text": [
      "Enter a natural number45\n",
      "product of even numbers is: 575\n"
     ]
    }
   ],
   "source": [
    "def product_even(n):\n",
    "    return sum(i + 3 for i in range(n) if i % 2 ==0)\n",
    "n = int(input(\"Enter a natural number\"))\n",
    "print(\"product of even numbers is:\",product_even(n))"
   ]
  },
  {
   "cell_type": "code",
   "execution_count": 24,
   "id": "abroad-cylinder",
   "metadata": {},
   "outputs": [
    {
     "name": "stdout",
     "output_type": "stream",
     "text": [
      "Enter a natural number n: 5\n",
      "sum of odd numbers is: 10\n"
     ]
    }
   ],
   "source": [
    "\n",
    "sum_odd=0\n",
    "n = int(input(\"Enter a natural number n: \"))\n",
    "for i in range(1, n, 2):\n",
    "    if i % 2 != 0:  \n",
    "        sum_odd += (i + 3)\n",
    "print(\"sum of odd numbers is:\",sum_odd)\n"
   ]
  },
  {
   "cell_type": "code",
   "execution_count": 25,
   "id": "duplicate-nomination",
   "metadata": {},
   "outputs": [
    {
     "name": "stdout",
     "output_type": "stream",
     "text": [
      "Enter a natural number n: 2\n",
      "products of even numbers is: 0\n"
     ]
    }
   ],
   "source": [
    "sum_pro=0\n",
    "n = int(input(\"Enter a natural number n: \"))\n",
    "for i in range(1, n, 2):\n",
    "    if i % 2 ==0:\n",
    "        sum_pro+=(i + 3)\n",
    "print(\"products of even numbers is:\",sum_pro)"
   ]
  },
  {
   "cell_type": "markdown",
   "id": "maritime-newman",
   "metadata": {},
   "source": [
    "2. Write a program that reads the number of the day of the week (from 0 to 6). If it is a\n",
    "working day, then the program will write the name of the corresponding day. Otherwise,\n",
    "it will write the word \"Weekend\"."
   ]
  },
  {
   "cell_type": "code",
   "execution_count": 37,
   "id": "selected-seafood",
   "metadata": {},
   "outputs": [
    {
     "name": "stdout",
     "output_type": "stream",
     "text": [
      "Enter a number between 0 and 6 for the day of the week: 5\n",
      "Weekend\n"
     ]
    }
   ],
   "source": [
    "days_of_week={\"Monday\", \"Tuesday\", \"Wednesday\", \"Thusday\", \"Friday\", \"Saturday\", \"Sunday\"}\n",
    "# Read input from the user\n",
    "day_num = int(input(\"Enter a number between 0 and 6 for the day of the week: \"))\n",
    "\n",
    "# Check if the input is within the valid range\n",
    "if 0 <= day_num <= 6:\n",
    "    if day_num < 5:\n",
    "        print(days_of_week[day_num])  # It's a working day\n",
    "    else:\n",
    "        print(\"Weekend\")  # It's a weekend\n",
    "else:\n",
    "    print(\"Invalid input! Please enter a number between 0 and 6.\")\n"
   ]
  },
  {
   "cell_type": "markdown",
   "id": "direct-strengthening",
   "metadata": {},
   "source": [
    "3. Make a program that, given a month number (from 0 to 11), indicates how many days it\n",
    "has (28, 30 or 31), ignoring the leap years."
   ]
  },
  {
   "cell_type": "code",
   "execution_count": 38,
   "id": "loaded-elder",
   "metadata": {},
   "outputs": [
    {
     "name": "stdout",
     "output_type": "stream",
     "text": [
      "Enter a month number (0 to 11): 9\n",
      "The month has 31 days.\n"
     ]
    }
   ],
   "source": [
    "\n",
    "months_days = {\n",
    "    0: 31,  # January\n",
    "    1: 28,  # February \n",
    "    2: 31,  # March\n",
    "    3: 30,  # April\n",
    "    4: 31,  # May\n",
    "    5: 30,  # June\n",
    "    6: 31,  # July\n",
    "    7: 31,  # August\n",
    "    8: 30,  # September\n",
    "    9: 31,  # October\n",
    "    10: 30, # November\n",
    "    11: 31  # December\n",
    "}\n",
    "\n",
    "month_num = int(input(\"Enter a month number (0 to 11): \"))\n",
    "\n",
    "if 0 <= month_num <= 11:\n",
    "    print(f\"The month has {months_days[month_num]} days.\")\n",
    "else:\n",
    "    print(\"Invalid input! Please enter a number between 0 and 11.\")"
   ]
  },
  {
   "cell_type": "markdown",
   "id": "alien-resort",
   "metadata": {},
   "source": [
    "4. Write two versions of python code that displays your name 3 times. One version with a\n",
    "\"for loop\" and another version with a \"while loop\"."
   ]
  },
  {
   "cell_type": "code",
   "execution_count": 40,
   "id": "civilian-audio",
   "metadata": {},
   "outputs": [
    {
     "name": "stdout",
     "output_type": "stream",
     "text": [
      "Enter your nameSIBOMANA\n",
      "SIBOMANA\n",
      "SIBOMANA\n",
      "SIBOMANA\n"
     ]
    }
   ],
   "source": [
    "name = input(\"Enter your name\")\n",
    "# for loop\n",
    "for i in range(3):\n",
    "    print(name)\n"
   ]
  },
  {
   "cell_type": "code",
   "execution_count": 41,
   "id": "armed-contrast",
   "metadata": {},
   "outputs": [
    {
     "name": "stdout",
     "output_type": "stream",
     "text": [
      "Enter your nameSIBOMANA\n",
      "SIBOMANA\n",
      "SIBOMANA\n",
      "SIBOMANA\n"
     ]
    }
   ],
   "source": [
    "name = input(\"Enter your name\")\n",
    "count = 0\n",
    "\n",
    "# While loop to print the name 3 times\n",
    "while count < 3:\n",
    "    print(name)\n",
    "    count += 1"
   ]
  },
  {
   "cell_type": "markdown",
   "id": "referenced-essence",
   "metadata": {},
   "source": [
    "5. Given two numbers a0 and a1, the Fibonacci sequence they generate is constructed from\n",
    "the recursion formula an+1 = an + an−1. Calculate the first 15 terms of a Fibonacci\n",
    "sequence, asking the user the initial values."
   ]
  },
  {
   "cell_type": "code",
   "execution_count": 42,
   "id": "external-worry",
   "metadata": {},
   "outputs": [
    {
     "name": "stdout",
     "output_type": "stream",
     "text": [
      "Enter the first number (a0): 0\n",
      "Enter the second number (a1): 1\n",
      "The first 15 terms of the Fib seq are:\n",
      "[0, 1, 1, 2, 3, 5, 8, 13, 21, 34, 55, 89, 144, 233, 377]\n"
     ]
    }
   ],
   "source": [
    "a0 = int(input(\"Enter the first number (a0): \"))\n",
    "a1 = int(input(\"Enter the second number (a1): \"))\n",
    "fib_seq = [a0, a1]\n",
    "for _ in range(2, 15):\n",
    "    next_term = fib_seq[-1] + fib_seq[-2]\n",
    "    fib_seq.append(next_term)\n",
    "print(\"The first 15 terms of the Fib seq are:\")\n",
    "print(fib_seq)\n"
   ]
  },
  {
   "cell_type": "markdown",
   "id": "pleasant-powder",
   "metadata": {},
   "source": [
    "6. Compute the first 30 terms of the sequence defined by 2xn+2 − xn+1 − 6xn = 0 sequence,\n",
    "given any two initial values x0 and x1"
   ]
  },
  {
   "cell_type": "code",
   "execution_count": 44,
   "id": "cathedral-sensitivity",
   "metadata": {},
   "outputs": [
    {
     "name": "stdout",
     "output_type": "stream",
     "text": [
      "Enter the first number (x0): 0\n",
      "Enter the second number (x1): 1\n",
      "The first 30 terms of the sequence are:\n",
      "[0, 1, 0.5, 3.25, 3.125, 11.3125, 15.03125, 41.453125, 65.8203125, 157.26953125, 276.095703125, 609.8564453125, 1133.21533203125, 2396.177001953125, 4597.7344970703125, 9487.398254394531, 18536.902618408203, 37730.646072387695, 74476.03089141846, 150429.9536628723, 298643.0695056915, 600611.3957414627, 1196234.906387806, 2399951.640418291, 4788680.539372563, 9594195.190941155, 19163139.213588268, 38364155.1796176, 76671495.2305736, 153428213.15413958]\n"
     ]
    }
   ],
   "source": [
    "x0 = int(input(\"Enter the first number (x0): \"))\n",
    "x1 = int(input(\"Enter the second number (x1): \"))\n",
    "\n",
    "sequence = [x0, x1]\n",
    "\n",
    "# Generate the next 28 terms to make it 30 terms in total\n",
    "for n in range(2, 30):\n",
    "    xn_2 = (sequence[n-1] + 6 * sequence[n-2]) / 2\n",
    "    sequence.append(xn_2)\n",
    "\n",
    "# Print the first 30 terms of the sequence\n",
    "print(\"The first 30 terms of the sequence are:\")\n",
    "print(sequence)\n"
   ]
  },
  {
   "cell_type": "code",
   "execution_count": null,
   "id": "vulnerable-senate",
   "metadata": {},
   "outputs": [],
   "source": [
    "7. a) Write python code to determine whether or not a year is a leap year. Be sure you\n",
    "know what a leap year is."
   ]
  },
  {
   "cell_type": "code",
   "execution_count": 46,
   "id": "worldwide-geneva",
   "metadata": {},
   "outputs": [
    {
     "name": "stdout",
     "output_type": "stream",
     "text": [
      "Enter a year: 2023\n",
      "2023 is not a leap year.\n"
     ]
    }
   ],
   "source": [
    "# Function to check if a year is a leap year\n",
    "def is_leap_year(year):\n",
    "    if year % 4 == 0:\n",
    "        if year % 100 == 0:\n",
    "            if year % 400 == 0:\n",
    "                return True  # Divisible by 400 -> leap year\n",
    "            else:\n",
    "                return False  # Divisible by 100 but not 400 -> not a leap year\n",
    "        else:\n",
    "            return True  # Divisible by 4 but not 100 -> leap year\n",
    "    else:\n",
    "        return False  # Not divisible by 4 -> not a leap year\n",
    "\n",
    "# Read year input from user\n",
    "year = int(input(\"Enter a year: \"))\n",
    "\n",
    "# Output the result\n",
    "if is_leap_year(year):\n",
    "    print(f\"{year} is a leap year.\")\n",
    "else:\n",
    "    print(f\"{year} is not a leap year.\")\n"
   ]
  },
  {
   "cell_type": "markdown",
   "id": "regional-living",
   "metadata": {},
   "source": [
    "b) Write the code using only logical operators, i.e. no conditional branching."
   ]
  },
  {
   "cell_type": "code",
   "execution_count": 47,
   "id": "precise-scanning",
   "metadata": {},
   "outputs": [
    {
     "name": "stdout",
     "output_type": "stream",
     "text": [
      "Enter a year: 2024\n",
      "2024 is a leap year.\n"
     ]
    }
   ],
   "source": [
    "# Read year input from user\n",
    "year = int(input(\"Enter a year: \"))\n",
    "\n",
    "# Check if it's a leap year using logical operators\n",
    "is_leap_year = (year % 4 == 0) and ((year % 100 != 0) or (year % 400 == 0))\n",
    "\n",
    "# Output the result\n",
    "print(f\"{year} is a leap year.\" if is_leap_year else f\"{year} is not a leap year.\")\n"
   ]
  },
  {
   "cell_type": "markdown",
   "id": "stunning-ceremony",
   "metadata": {},
   "source": [
    "8. a) Write python code that computes the sum of the square of the first n natural numbers.\n",
    "One version with a \"for loop\" and another version with a \"while loop\".\n"
   ]
  },
  {
   "cell_type": "code",
   "execution_count": 50,
   "id": "official-beaver",
   "metadata": {},
   "outputs": [
    {
     "name": "stdout",
     "output_type": "stream",
     "text": [
      "Enter a natural number n: 4\n",
      "The sum of the squares of the first 4 natural numbers is: 30\n"
     ]
    }
   ],
   "source": [
    "##Version with a for loop\n",
    "n = int(input(\"Enter a natural number n: \"))\n",
    "\n",
    "# Initialize the sum\n",
    "sum_of_squares = 0\n",
    "\n",
    "# Use a for loop to compute the sum of squares\n",
    "for i in range(1, n + 1):\n",
    "    sum_of_squares += i ** 2\n",
    "\n",
    "# Output the result\n",
    "print(f\"The sum of the squares of the first {n} natural numbers is: {sum_of_squares}\")\n"
   ]
  },
  {
   "cell_type": "code",
   "execution_count": 51,
   "id": "infinite-gallery",
   "metadata": {},
   "outputs": [
    {
     "name": "stdout",
     "output_type": "stream",
     "text": [
      "Enter a natural number n: 4\n",
      "The sum of the squares of the first 4 natural numbers is: 30\n"
     ]
    }
   ],
   "source": [
    "##Version with a while loop\n",
    "n = int(input(\"Enter a natural number n: \"))\n",
    "\n",
    "# Initialize the sum and counter\n",
    "sum_of_squares = 0\n",
    "i = 1\n",
    "\n",
    "# Use a while loop to compute the sum of squares\n",
    "while i <= n:\n",
    "    sum_of_squares += i ** 2\n",
    "    i += 1\n",
    "\n",
    "# Output the result\n",
    "print(f\"The sum of the squares of the first {n} natural numbers is: {sum_of_squares}\")\n"
   ]
  },
  {
   "cell_type": "code",
   "execution_count": null,
   "id": "intermediate-summer",
   "metadata": {},
   "outputs": [],
   "source": [
    "b) Write python code that prints, for a natural number M, the smallest natural number\n",
    "n such that 1\n",
    "\n",
    "2 + 22 +· · ·+n\n",
    "\n",
    "2 ≥ M. One version with a \"for loop\" and another version\n",
    "\n",
    "with a \"while loop\"."
   ]
  },
  {
   "cell_type": "code",
   "execution_count": 53,
   "id": "alleged-triumph",
   "metadata": {},
   "outputs": [
    {
     "name": "stdout",
     "output_type": "stream",
     "text": [
      "Enter a natural number M: 5\n",
      "The smallest natural number n such that the sum of squares is >= 5 is: 2\n"
     ]
    }
   ],
   "source": [
    "##Version with a for loop\n",
    "M = int(input(\"Enter a natural number M: \"))\n",
    "\n",
    "# Initialize the sum\n",
    "sum_of_squares = 0\n",
    "\n",
    "# Use a for loop to find the smallest n\n",
    "for n in range(1, M + 1):\n",
    "    sum_of_squares += n ** 2\n",
    "    if sum_of_squares >= M:\n",
    "        break\n",
    "\n",
    "# Output the result\n",
    "print(f\"The smallest natural number n such that the sum of squares is >= {M} is: {n}\")\n"
   ]
  },
  {
   "cell_type": "code",
   "execution_count": 54,
   "id": "fatal-bacon",
   "metadata": {},
   "outputs": [
    {
     "name": "stdout",
     "output_type": "stream",
     "text": [
      "Enter a natural number M: 6\n",
      "The smallest natural number n such that the sum of squares is >= 6 is: 3\n"
     ]
    }
   ],
   "source": [
    "##Version with a while loop\n",
    "M = int(input(\"Enter a natural number M: \"))\n",
    "\n",
    "# Initialize the sum and counter\n",
    "sum_of_squares = 0\n",
    "n = 1\n",
    "\n",
    "# Use a while loop to find the smallest n\n",
    "while sum_of_squares < M:\n",
    "    sum_of_squares += n ** 2\n",
    "    if sum_of_squares >= M:\n",
    "        break\n",
    "    n += 1\n",
    "\n",
    "# Output the result\n",
    "print(f\"The smallest natural number n such that the sum of squares is >= {M} is: {n}\")\n"
   ]
  },
  {
   "cell_type": "markdown",
   "id": "alternate-granny",
   "metadata": {},
   "source": [
    "9. a) Write python code that prints all the divisors of a given natural number."
   ]
  },
  {
   "cell_type": "code",
   "execution_count": 60,
   "id": "adjacent-brunswick",
   "metadata": {},
   "outputs": [
    {
     "name": "stdout",
     "output_type": "stream",
     "text": [
      "Enter a natural number: 6\n",
      "The divisors of 6 are: [1, 2, 3, 6]\n"
     ]
    }
   ],
   "source": [
    "n = int(input(\"Enter a natural number: \"))\n",
    "divisors = []\n",
    "\n",
    "# Loop through numbers from 1 to n to find divisors\n",
    "for i in range(1, n + 1):\n",
    "    if n % i == 0:  # If i divides n evenly, it is a divisor\n",
    "        divisors.append(i)\n",
    "\n",
    "# Output the result\n",
    "print(f\"The divisors of {n} are: {divisors}\")\n"
   ]
  },
  {
   "cell_type": "markdown",
   "id": "sudden-ceramic",
   "metadata": {},
   "source": [
    "b) Read an integer number input by the user and calculate its prime factors. This will\n",
    "just be some of its divisors."
   ]
  },
  {
   "cell_type": "code",
   "execution_count": 62,
   "id": "essential-nothing",
   "metadata": {},
   "outputs": [
    {
     "name": "stdout",
     "output_type": "stream",
     "text": [
      "Enter an integer: 6\n",
      "The prime factors of 6 are: [2, 3]\n"
     ]
    }
   ],
   "source": [
    "# Function to calculate prime factors of a given number\n",
    "def prime_factors(n):\n",
    "    factors = []\n",
    "    # Check for number of 2s that divide n\n",
    "    while n % 2 == 0:\n",
    "        factors.append(2)\n",
    "        n = n // 2\n",
    "\n",
    "    # n must be odd at this point, so we can skip even numbers\n",
    "    for i in range(3, int(n**0.5) + 1, 2):\n",
    "        # While i divides n, add i to factors and divide n\n",
    "        while n % i == 0:\n",
    "            factors.append(i)\n",
    "            n = n // i\n",
    "\n",
    "    # If n is still greater than 2, it must be prime\n",
    "    if n > 2:\n",
    "        factors.append(n)\n",
    "    \n",
    "    return factors\n",
    "\n",
    "# Read input from the user\n",
    "number = int(input(\"Enter an integer: \"))\n",
    "\n",
    "# Ensure the input is valid\n",
    "if number > 1:\n",
    "    # Calculate and print prime factors\n",
    "    primes = prime_factors(number)\n",
    "    print(f\"The prime factors of {number} are: {primes}\")\n",
    "else:\n",
    "    print(\"Please enter a positive integer greater than 1.\")\n"
   ]
  },
  {
   "cell_type": "markdown",
   "id": "binary-compilation",
   "metadata": {},
   "source": [
    "10. Read an integer number between n 0 and 9 and print its multiplication table up to N\n",
    "where N is another another natural number read by the program."
   ]
  },
  {
   "cell_type": "code",
   "execution_count": 64,
   "id": "labeled-badge",
   "metadata": {},
   "outputs": [
    {
     "name": "stdout",
     "output_type": "stream",
     "text": [
      "Enter a number between 0 and 9: 8\n",
      "Enter a natural number N for the multiplication table: 5\n",
      "Multiplication table of 8 up to 5:\n",
      "8 x 1 = 8\n",
      "8 x 2 = 16\n",
      "8 x 3 = 24\n",
      "8 x 4 = 32\n",
      "8 x 5 = 40\n"
     ]
    }
   ],
   "source": [
    "# Read the integer between 0 and 9\n",
    "n = int(input(\"Enter a number between 0 and 9: \"))\n",
    "\n",
    "if 0 <= n <= 9:\n",
    "    N = int(input(\"Enter a natural number N for the multiplication table: \"))\n",
    "\n",
    "    # Print the multiplication table for n up to N\n",
    "    print(f\"Multiplication table of {n} up to {N}:\")\n",
    "    for i in range(1, N + 1):\n",
    "        print(f\"{n} x {i} = {n * i}\")\n",
    "else:\n",
    "    print(\"Please enter a valid number between 0 and 9.\")\n"
   ]
  },
  {
   "cell_type": "markdown",
   "id": "amateur-platform",
   "metadata": {},
   "source": [
    "11. Write a program that prints all the numbers between 0 and 40 that are multiples of 3, 7\n",
    "or 11."
   ]
  },
  {
   "cell_type": "code",
   "execution_count": 65,
   "id": "twelve-processor",
   "metadata": {},
   "outputs": [
    {
     "name": "stdout",
     "output_type": "stream",
     "text": [
      "0\n",
      "3\n",
      "6\n",
      "7\n",
      "9\n",
      "11\n",
      "12\n",
      "14\n",
      "15\n",
      "18\n",
      "21\n",
      "22\n",
      "24\n",
      "27\n",
      "28\n",
      "30\n",
      "33\n",
      "35\n",
      "36\n",
      "39\n"
     ]
    }
   ],
   "source": [
    "# Loop through numbers from 0 to 40\n",
    "for i in range(41):\n",
    "    # Check if the number is divisible by 3, 7, or 11\n",
    "    if i % 3 == 0 or i % 7 == 0 or i % 11 == 0:\n",
    "        print(i)\n"
   ]
  },
  {
   "cell_type": "markdown",
   "id": "oriented-argument",
   "metadata": {},
   "source": [
    "12. Write python code that prints the floor of a float x. Recall that the floor of a float x is the\n",
    "largest integer value less than or equal to x, i.e. if E[x] is the floor of x, then it satisfies,\n",
    "\n",
    "E[x] = 1 + E[x − 1]\n",
    "\n",
    "PS: On Friday, you will be asked to write a recursive version of the above program."
   ]
  },
  {
   "cell_type": "code",
   "execution_count": 67,
   "id": "bronze-fashion",
   "metadata": {},
   "outputs": [
    {
     "name": "stdout",
     "output_type": "stream",
     "text": [
      "Enter a float number: 2.5\n",
      "The floor of 2.5 is: 2\n"
     ]
    }
   ],
   "source": [
    "# Function to compute the floor of a float\n",
    "def floor_of_x(x):\n",
    "    return int(x) if x >= 0 else int(x) - 1\n",
    "\n",
    "# Read input from user\n",
    "x = float(input(\"Enter a float number: \"))\n",
    "\n",
    "# Output the floor of x\n",
    "print(f\"The floor of {x} is: {floor_of_x(x)}\")\n"
   ]
  },
  {
   "cell_type": "markdown",
   "id": "solar-fence",
   "metadata": {},
   "source": [
    "13. Given a point in the plane by its Cartesian coordinates, determine in which quadrant it is\n",
    "(1st, 2nd, 3rd, 4th), if it lies on an axis, or if it is the origin. Do this for several points in\n",
    "the same execution of the program until the user quits."
   ]
  },
  {
   "cell_type": "code",
   "execution_count": 71,
   "id": "unavailable-promotion",
   "metadata": {},
   "outputs": [
    {
     "name": "stdout",
     "output_type": "stream",
     "text": [
      "Enter the x-coordinate (or 'q' to quit): 2\n",
      "Enter the y-coordinate (or 'q' to quit): 4\n",
      "The point (2.0, 4.0) is in the 1st Quadrant.\n",
      "Do you want to enter another point? (y/n): n\n"
     ]
    }
   ],
   "source": [
    "def determine_location(x, y):\n",
    "    if x == 0 and y == 0:\n",
    "        return \"Origin\"\n",
    "    elif x == 0:\n",
    "        return \"On the Y-axis\"\n",
    "    elif y == 0:\n",
    "        return \"On the X-axis\"\n",
    "    elif x > 0 and y > 0:\n",
    "        return \"1st Quadrant\"\n",
    "    elif x < 0 and y > 0:\n",
    "        return \"2nd Quadrant\"\n",
    "    elif x < 0 and y < 0:\n",
    "        return \"3rd Quadrant\"\n",
    "    elif x > 0 and y < 0:\n",
    "        return \"4th Quadrant\"\n",
    "\n",
    "while True:\n",
    "    # Read coordinates from user\n",
    "    x = float(input(\"Enter the x-coordinate (or 'q' to quit): \"))\n",
    "    y = float(input(\"Enter the y-coordinate (or 'q' to quit): \"))\n",
    "    \n",
    "    # Determine the location of the point\n",
    "    location = determine_location(x, y)\n",
    "    \n",
    "    # Print the result\n",
    "    print(f\"The point ({x}, {y}) is in the {location}.\")\n",
    "\n",
    "    # Ask the user if they want to continue\n",
    "    user_input = input(\"Do you want to enter another point? (y/n): \").lower()\n",
    "    if user_input == 'n':\n",
    "        break\n"
   ]
  },
  {
   "cell_type": "markdown",
   "id": "guided-armstrong",
   "metadata": {},
   "source": [
    "14. Ask for an integer number between 0 and 9, denoted x. Once the user has entered a correct\n",
    "number (that is one in the range [0..10)) the program asks for a second integer number\n",
    "between 0 and 255, denoted max. The program continues asking for the number until it\n",
    "is correct (that it is in the range [0..256)). When this is done, show all multiples of x that\n",
    "are between 0 and max. Then, ask the user whether he/she wants to continue; if in the\n",
    "affirmative, ask for another couple of numbers, otherwise finish."
   ]
  },
  {
   "cell_type": "code",
   "execution_count": 72,
   "id": "corresponding-navigator",
   "metadata": {},
   "outputs": [
    {
     "name": "stdout",
     "output_type": "stream",
     "text": [
      "Enter a number between 0 and 9: 6\n",
      "Enter a number between 0 and 255: 100\n",
      "Multiples of 6 between 0 and 100:\n",
      "6 12 18 24 30 36 42 48 54 60 66 72 78 84 90 96 \n",
      "Do you want to enter another pair of numbers? (y/n): n\n",
      "Exiting the program.\n"
     ]
    }
   ],
   "source": [
    "def get_integer(prompt, low, high):\n",
    "    \"\"\"Prompts the user for an integer between low and high (inclusive).\"\"\"\n",
    "    while True:\n",
    "        try:\n",
    "            num = int(input(prompt))\n",
    "            if low <= num < high:\n",
    "                return num\n",
    "            else:\n",
    "                print(f\"Please enter a number between {low} and {high - 1}.\")\n",
    "        except ValueError:\n",
    "            print(\"Invalid input, please enter an integer.\")\n",
    "\n",
    "def display_multiples(x, max_val):\n",
    "    \"\"\"Displays all multiples of x between 0 and max.\"\"\"\n",
    "    print(f\"Multiples of {x} between 0 and {max_val}:\")\n",
    "    for i in range(x, max_val + 1, x):\n",
    "        print(i, end=\" \")\n",
    "    print()  # For a new line after printing all multiples\n",
    "\n",
    "while True:\n",
    "    # Ask for an integer between 0 and 9\n",
    "    x = get_integer(\"Enter a number between 0 and 9: \", 0, 10)\n",
    "    \n",
    "    # Ask for an integer between 0 and 255\n",
    "    max_val = get_integer(\"Enter a number between 0 and 255: \", 0, 256)\n",
    "    \n",
    "    # Display multiples of x between 0 and max_val\n",
    "    display_multiples(x, max_val)\n",
    "    \n",
    "    # Ask if the user wants to continue\n",
    "    cont = input(\"Do you want to enter another pair of numbers? (y/n): \").lower()\n",
    "    if cont != 'y':\n",
    "        print(\"Exiting the program.\")\n",
    "        break\n"
   ]
  },
  {
   "cell_type": "code",
   "execution_count": null,
   "id": "extreme-challenge",
   "metadata": {},
   "outputs": [],
   "source": []
  }
 ],
 "metadata": {
  "kernelspec": {
   "display_name": "Python 3",
   "language": "python",
   "name": "python3"
  },
  "language_info": {
   "codemirror_mode": {
    "name": "ipython",
    "version": 3
   },
   "file_extension": ".py",
   "mimetype": "text/x-python",
   "name": "python",
   "nbconvert_exporter": "python",
   "pygments_lexer": "ipython3",
   "version": "3.9.2"
  }
 },
 "nbformat": 4,
 "nbformat_minor": 5
}
